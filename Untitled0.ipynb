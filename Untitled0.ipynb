{
  "nbformat": 4,
  "nbformat_minor": 0,
  "metadata": {
    "colab": {
      "provenance": [],
      "toc_visible": true,
      "authorship_tag": "ABX9TyNwv3ulztT3em6lTPWMlPdZ",
      "include_colab_link": true
    },
    "kernelspec": {
      "name": "python3",
      "display_name": "Python 3"
    },
    "language_info": {
      "name": "python"
    }
  },
  "cells": [
    {
      "cell_type": "markdown",
      "metadata": {
        "id": "view-in-github",
        "colab_type": "text"
      },
      "source": [
        "<a href=\"https://colab.research.google.com/github/hyeon181/oss2025/blob/main/Untitled0.ipynb\" target=\"_parent\"><img src=\"https://colab.research.google.com/assets/colab-badge.svg\" alt=\"Open In Colab\"/></a>"
      ]
    },
    {
      "cell_type": "code",
      "execution_count": 1,
      "metadata": {
        "colab": {
          "base_uri": "https://localhost:8080/",
          "height": 149
        },
        "id": "ofl3Pnhlxxs9",
        "outputId": "443432b2-f405-4cda-f2f6-70a5ebef09b6"
      },
      "outputs": [
        {
          "output_type": "error",
          "ename": "NameError",
          "evalue": "name 'content' is not defined",
          "traceback": [
            "\u001b[0;31m---------------------------------------------------------------------------\u001b[0m",
            "\u001b[0;31mNameError\u001b[0m                                 Traceback (most recent call last)",
            "\u001b[0;32m<ipython-input-1-47cbdf4d3e43>\u001b[0m in \u001b[0;36m<cell line: 0>\u001b[0;34m()\u001b[0m\n\u001b[0;32m----> 1\u001b[0;31m \u001b[0mcontent\u001b[0m\u001b[0;34m/\u001b[0m\u001b[0msample_data\u001b[0m\u001b[0;34m/\u001b[0m\u001b[0mcalifornia_housing_test\u001b[0m\u001b[0;34m.\u001b[0m\u001b[0mcsv로부터\u001b[0m\u001b[0;34m(\u001b[0m\u001b[0m집값\u001b[0m\u001b[0;34m,\u001b[0m \u001b[0m예측\u001b[0m\u001b[0;34m,\u001b[0m \u001b[0m프로그램을\u001b[0m\u001b[0;34m,\u001b[0m \u001b[0m생성해\u001b[0m\u001b[0;34m,\u001b[0m \u001b[0m줘\u001b[0m\u001b[0;34m)\u001b[0m\u001b[0;34m\u001b[0m\u001b[0;34m\u001b[0m\u001b[0m\n\u001b[0m",
            "\u001b[0;31mNameError\u001b[0m: name 'content' is not defined"
          ]
        }
      ],
      "source": [
        "# prompt: /content/sample_data/california_housing_test.csv로부터 집값 예측 프로그램을 생성해 줘\n",
        "\n",
        "import pandas as pd\n",
        "from sklearn.model_selection import train_test_split\n",
        "from sklearn.linear_model import LinearRegression\n",
        "from sklearn.metrics import mean_squared_error\n",
        "\n",
        "# 데이터 로드\n",
        "try:\n",
        "    df = pd.read_csv('/content/sample_data/california_housing_test.csv')\n",
        "except FileNotFoundError:\n",
        "    print(\"Error: File not found. Please make sure the file path is correct.\")\n",
        "    exit()\n",
        "\n",
        "\n",
        "# 특성(X)과 타겟 변수(y) 분리\n",
        "X = df.drop('median_house_value', axis=1)\n",
        "y = df['median_house_value']\n",
        "\n",
        "\n",
        "# 데이터를 훈련 세트와 테스트 세트로 분할\n",
        "X_train, X_test, y_train, y_test = train_test_split(X, y, test_size=0.2, random_state=42)\n",
        "\n",
        "# 선형 회귀 모델 생성 및 훈련\n",
        "model = LinearRegression()\n",
        "model.fit(X_train, y_train)\n",
        "\n",
        "# 테스트 세트에 대한 예측\n",
        "y_pred = model.predict(X_test)\n",
        "\n",
        "# 모델 평가 (평균 제곱 오차)\n",
        "mse = mean_squared_error(y_test, y_pred)\n",
        "print(f\"Mean Squared Error: {mse}\")\n",
        "\n",
        "# 새로운 데이터 입력 받아 예측\n",
        "new_data = pd.DataFrame({\n",
        "    'longitude': [0],\n",
        "    'latitude': [0],\n",
        "    'housing_median_age': [0],\n",
        "    'total_rooms': [0],\n",
        "    'total_bedrooms': [0],\n",
        "    'population': [0],\n",
        "    'households': [0],\n",
        "    'median_income': [0]\n",
        "})\n",
        "new_data = new_data.fillna(0)\n",
        "\n",
        "predicted_price = model.predict(new_data)\n",
        "print(f\"Predicted House Price: {predicted_price[0]}\")\n",
        "\n"
      ]
    },
    {
      "cell_type": "markdown",
      "source": [
        "# 새 섹션"
      ],
      "metadata": {
        "id": "BL5bANDI395J"
      }
    },
    {
      "cell_type": "markdown",
      "source": [
        "# 삼각형 판단하기\n",
        "\n",
        "본 수업에서는 **삼각형의 세 변의 길이**를 받아서 어떠한 삼각형인지를 알려 주는 프로그램을 개발합니다. 제안하는 프로그램은 사용자로부터 3개의 입력을 받습니다.\n"
      ],
      "metadata": {
        "id": "U5-0OMQLx0jN"
      }
    },
    {
      "cell_type": "code",
      "source": [
        "a=6\n",
        "b=5\n",
        "c=13\n",
        "if a == b == c:\n",
        "  print(\"정삼각형\")\n",
        "else:\n",
        "  print(\"정삼각형 아님\")\n"
      ],
      "metadata": {
        "colab": {
          "base_uri": "https://localhost:8080/"
        },
        "id": "n7-wFZrJyYPE",
        "outputId": "ab338c6b-7404-4299-b7a9-ab5fe4623f6d"
      },
      "execution_count": 3,
      "outputs": [
        {
          "output_type": "stream",
          "name": "stdout",
          "text": [
            "정삼각형 아님\n"
          ]
        }
      ]
    }
  ]
}